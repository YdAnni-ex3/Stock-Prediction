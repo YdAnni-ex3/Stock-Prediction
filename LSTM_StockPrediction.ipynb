{
  "nbformat": 4,
  "nbformat_minor": 0,
  "metadata": {
    "colab": {
      "provenance": []
    },
    "kernelspec": {
      "name": "python3",
      "display_name": "Python 3"
    },
    "language_info": {
      "name": "python"
    }
  },
  "cells": [
    {
      "cell_type": "code",
      "execution_count": null,
      "metadata": {
        "id": "PEXIYUppVeDl"
      },
      "outputs": [],
      "source": [
        "import numpy as np\n",
        "from keras.models import Sequential\n",
        "from keras.layers import LSTM\n",
        "from keras.layers import Dense, Dropout\n",
        "import tensorflow as tf\n",
        "import pandas as pd\n",
        "from matplotlib import pyplot as plt\n",
        "import sklearn \n",
        "from sklearn.preprocessing import StandardScaler\n",
        "import seaborn as sns\n",
        "#from datetime import datetime"
      ]
    },
    {
      "cell_type": "code",
      "source": [
        "df = pd.read_csv('/content/drive/MyDrive/AAPL.csv')\n",
        "print(df.tail())"
      ],
      "metadata": {
        "colab": {
          "base_uri": "https://localhost:8080/"
        },
        "id": "UZoJCpvLWmPj",
        "outputId": "4503e427-c3b4-4e02-e96a-14e027ee6f31"
      },
      "execution_count": null,
      "outputs": [
        {
          "output_type": "stream",
          "name": "stdout",
          "text": [
            "            Date        Open        High         Low       Close   Adj Close  \\\n",
            "5529  2022-11-23  149.449997  151.830002  149.339996  151.070007  151.070007   \n",
            "5530  2022-11-25  148.309998  148.880005  147.119995  148.110001  148.110001   \n",
            "5531  2022-11-28  145.139999  146.639999  143.380005  144.220001  144.220001   \n",
            "5532  2022-11-29  144.289993  144.809998  140.350006  141.169998  141.169998   \n",
            "5533  2022-11-30  141.399994  148.720001  140.550003  148.029999  148.029999   \n",
            "\n",
            "         Volume  \n",
            "5529   58301400  \n",
            "5530   35195900  \n",
            "5531   69246000  \n",
            "5532   83763800  \n",
            "5533  111224400  \n"
          ]
        }
      ]
    },
    {
      "cell_type": "code",
      "source": [
        "train_dates = pd.to_datetime(df['Date'])\n",
        "print(train_dates.tail(15))"
      ],
      "metadata": {
        "colab": {
          "base_uri": "https://localhost:8080/"
        },
        "id": "X2PcgfxvXSe2",
        "outputId": "da0d2cd2-1647-492d-966b-709560bf57ff"
      },
      "execution_count": null,
      "outputs": [
        {
          "output_type": "stream",
          "name": "stdout",
          "text": [
            "5519   2022-11-09\n",
            "5520   2022-11-10\n",
            "5521   2022-11-11\n",
            "5522   2022-11-14\n",
            "5523   2022-11-15\n",
            "5524   2022-11-16\n",
            "5525   2022-11-17\n",
            "5526   2022-11-18\n",
            "5527   2022-11-21\n",
            "5528   2022-11-22\n",
            "5529   2022-11-23\n",
            "5530   2022-11-25\n",
            "5531   2022-11-28\n",
            "5532   2022-11-29\n",
            "5533   2022-11-30\n",
            "Name: Date, dtype: datetime64[ns]\n"
          ]
        }
      ]
    },
    {
      "cell_type": "code",
      "source": [
        "#Variables for training\n",
        "cols = list(df)[1:6]\n",
        "print(cols) "
      ],
      "metadata": {
        "colab": {
          "base_uri": "https://localhost:8080/"
        },
        "id": "czTQCsCaXSh5",
        "outputId": "ca38c6f4-a911-4025-efdf-6ebe668547d6"
      },
      "execution_count": null,
      "outputs": [
        {
          "output_type": "stream",
          "name": "stdout",
          "text": [
            "['Open', 'High', 'Low', 'Close', 'Adj Close']\n"
          ]
        }
      ]
    },
    {
      "cell_type": "code",
      "source": [
        "df_for_training = df[cols].astype(float)"
      ],
      "metadata": {
        "id": "6txhM5ekXSkS"
      },
      "execution_count": null,
      "outputs": []
    },
    {
      "cell_type": "code",
      "source": [
        "# open = df['Open'].to_numpy()"
      ],
      "metadata": {
        "id": "_Ryh8MZBlUOT"
      },
      "execution_count": null,
      "outputs": []
    },
    {
      "cell_type": "code",
      "source": [
        "# print(open[5444:])\n"
      ],
      "metadata": {
        "id": "LisC938dlwnn"
      },
      "execution_count": null,
      "outputs": []
    },
    {
      "cell_type": "code",
      "source": [
        "# open1 = []\n",
        "# for i in range(5444,5534):\n",
        "#     open1.insert(i , open[i])"
      ],
      "metadata": {
        "id": "hfPj4RC2JmVh"
      },
      "execution_count": null,
      "outputs": []
    },
    {
      "cell_type": "code",
      "source": [
        "# print(len(open1))"
      ],
      "metadata": {
        "id": "N4O5LLGNKMa2"
      },
      "execution_count": null,
      "outputs": []
    },
    {
      "cell_type": "code",
      "source": [
        "# normalize the dataset\n",
        "scaler = StandardScaler()\n",
        "scaler = scaler.fit(df_for_training)\n",
        "df_for_training_scaled = scaler.transform(df_for_training)\n"
      ],
      "metadata": {
        "id": "kyGHWWy0XSmo"
      },
      "execution_count": null,
      "outputs": []
    },
    {
      "cell_type": "code",
      "source": [
        "#training the dataset\n",
        "trainX = []\n",
        "trainY = []\n",
        "\n",
        "n_future = 1   # Number of days we want to look into the future based on the past days.\n",
        "n_past = 14  # Number of past days we want to use to predict the future.\n",
        "\n",
        "for i in range(n_past, len(df_for_training_scaled) - n_future +1):\n",
        "    trainX.append(df_for_training_scaled[i - n_past:i, 0:df_for_training.shape[1]])\n",
        "    trainY.append(df_for_training_scaled[i + n_future - 1:i + n_future, 0])"
      ],
      "metadata": {
        "id": "xO8Mmv0BXSpO"
      },
      "execution_count": null,
      "outputs": []
    },
    {
      "cell_type": "code",
      "source": [
        "trainX, trainY = np.array(trainX), np.array(trainY)\n",
        "\n",
        "print('trainX shape == {}.'.format(trainX.shape))\n",
        "print('trainY shape == {}.'.format(trainY.shape))\n"
      ],
      "metadata": {
        "colab": {
          "base_uri": "https://localhost:8080/"
        },
        "id": "TJ38FVN9XSrg",
        "outputId": "75bff4ad-eecf-45e5-b211-37c38234ad04"
      },
      "execution_count": null,
      "outputs": [
        {
          "output_type": "stream",
          "name": "stdout",
          "text": [
            "trainX shape == (5520, 14, 5).\n",
            "trainY shape == (5520, 1).\n"
          ]
        }
      ]
    },
    {
      "cell_type": "code",
      "source": [
        "from keras.models import Sequential\n",
        "from keras import layers\n",
        "from keras.layers import LSTM,Dropout\n",
        "from keras.layers import Dense\n",
        "\n",
        "model = Sequential()\n",
        "model.add(LSTM(64, activation='relu', input_shape=(trainX.shape[1], trainX.shape[2]), return_sequences=True))\n",
        "model.add(LSTM(32, activation='relu', return_sequences=False))\n",
        "model.add(Dropout(0.2))\n",
        "model.add(Dense(trainY.shape[1]))\n",
        "\n",
        "model.compile(optimizer='adam', loss='mse')\n",
        "model.summary()\n"
      ],
      "metadata": {
        "colab": {
          "base_uri": "https://localhost:8080/"
        },
        "id": "o-9P2wYjXSti",
        "outputId": "2d3238d6-c172-428c-d008-79df980c6287"
      },
      "execution_count": null,
      "outputs": [
        {
          "output_type": "stream",
          "name": "stdout",
          "text": [
            "Model: \"sequential_4\"\n",
            "_________________________________________________________________\n",
            " Layer (type)                Output Shape              Param #   \n",
            "=================================================================\n",
            " lstm_8 (LSTM)               (None, 14, 64)            17920     \n",
            "                                                                 \n",
            " lstm_9 (LSTM)               (None, 32)                12416     \n",
            "                                                                 \n",
            " dropout_4 (Dropout)         (None, 32)                0         \n",
            "                                                                 \n",
            " dense_4 (Dense)             (None, 1)                 33        \n",
            "                                                                 \n",
            "=================================================================\n",
            "Total params: 30,369\n",
            "Trainable params: 30,369\n",
            "Non-trainable params: 0\n",
            "_________________________________________________________________\n"
          ]
        }
      ]
    },
    {
      "cell_type": "code",
      "source": [
        "history = model.fit(trainX, trainY, epochs=13, batch_size=16, validation_split=0.1, verbose=1)"
      ],
      "metadata": {
        "colab": {
          "base_uri": "https://localhost:8080/"
        },
        "id": "dlaLuBWZXSyV",
        "outputId": "a9ee2ea7-a858-4c7a-f189-e904c2d465bc"
      },
      "execution_count": null,
      "outputs": [
        {
          "output_type": "stream",
          "name": "stdout",
          "text": [
            "Epoch 1/13\n",
            "311/311 [==============================] - 7s 15ms/step - loss: 0.0211 - val_loss: 0.0545\n",
            "Epoch 2/13\n",
            "311/311 [==============================] - 4s 14ms/step - loss: 0.0090 - val_loss: 0.3262\n",
            "Epoch 3/13\n",
            "311/311 [==============================] - 4s 14ms/step - loss: 0.0085 - val_loss: 0.1428\n",
            "Epoch 4/13\n",
            "311/311 [==============================] - 5s 16ms/step - loss: 0.0077 - val_loss: 0.0647\n",
            "Epoch 5/13\n",
            "311/311 [==============================] - 5s 15ms/step - loss: 0.0076 - val_loss: 0.1300\n",
            "Epoch 6/13\n",
            "311/311 [==============================] - 4s 14ms/step - loss: 0.0073 - val_loss: 0.0480\n",
            "Epoch 7/13\n",
            "311/311 [==============================] - 4s 14ms/step - loss: 0.0073 - val_loss: 0.8817\n",
            "Epoch 8/13\n",
            "311/311 [==============================] - 4s 14ms/step - loss: 0.0064 - val_loss: 0.0387\n",
            "Epoch 9/13\n",
            "311/311 [==============================] - 4s 14ms/step - loss: 0.0065 - val_loss: 0.0677\n",
            "Epoch 10/13\n",
            "311/311 [==============================] - 5s 15ms/step - loss: 0.0059 - val_loss: 0.0462\n",
            "Epoch 11/13\n",
            "311/311 [==============================] - 4s 14ms/step - loss: 0.0059 - val_loss: 0.1006\n",
            "Epoch 12/13\n",
            "311/311 [==============================] - 4s 14ms/step - loss: 0.0059 - val_loss: 0.1174\n",
            "Epoch 13/13\n",
            "311/311 [==============================] - 4s 14ms/step - loss: 0.0058 - val_loss: 0.0142\n"
          ]
        }
      ]
    },
    {
      "cell_type": "code",
      "source": [
        "from pandas.tseries.holiday import USFederalHolidayCalendar\n",
        "from pandas.tseries.offsets import CustomBusinessDay\n",
        "us_bd = CustomBusinessDay(calendar=USFederalHolidayCalendar())"
      ],
      "metadata": {
        "id": "EbB9Z6bb3pf5"
      },
      "execution_count": null,
      "outputs": []
    },
    {
      "cell_type": "code",
      "source": [
        "past = 91\n",
        "days_of_pred = 90\n",
        "\n",
        "#extract the dates for prediction\n",
        "predict_period_dates = pd.date_range(list(train_dates)[-past], periods=days_of_pred, freq = us_bd).tolist()\n",
        "print(predict_period_dates)"
      ],
      "metadata": {
        "colab": {
          "base_uri": "https://localhost:8080/"
        },
        "id": "aQJDpBOKXS0f",
        "outputId": "697ee85d-6c40-4a45-fad2-103363e12d91"
      },
      "execution_count": null,
      "outputs": [
        {
          "output_type": "stream",
          "name": "stdout",
          "text": [
            "[Timestamp('2022-07-25 00:00:00', freq='C'), Timestamp('2022-07-26 00:00:00', freq='C'), Timestamp('2022-07-27 00:00:00', freq='C'), Timestamp('2022-07-28 00:00:00', freq='C'), Timestamp('2022-07-29 00:00:00', freq='C'), Timestamp('2022-08-01 00:00:00', freq='C'), Timestamp('2022-08-02 00:00:00', freq='C'), Timestamp('2022-08-03 00:00:00', freq='C'), Timestamp('2022-08-04 00:00:00', freq='C'), Timestamp('2022-08-05 00:00:00', freq='C'), Timestamp('2022-08-08 00:00:00', freq='C'), Timestamp('2022-08-09 00:00:00', freq='C'), Timestamp('2022-08-10 00:00:00', freq='C'), Timestamp('2022-08-11 00:00:00', freq='C'), Timestamp('2022-08-12 00:00:00', freq='C'), Timestamp('2022-08-15 00:00:00', freq='C'), Timestamp('2022-08-16 00:00:00', freq='C'), Timestamp('2022-08-17 00:00:00', freq='C'), Timestamp('2022-08-18 00:00:00', freq='C'), Timestamp('2022-08-19 00:00:00', freq='C'), Timestamp('2022-08-22 00:00:00', freq='C'), Timestamp('2022-08-23 00:00:00', freq='C'), Timestamp('2022-08-24 00:00:00', freq='C'), Timestamp('2022-08-25 00:00:00', freq='C'), Timestamp('2022-08-26 00:00:00', freq='C'), Timestamp('2022-08-29 00:00:00', freq='C'), Timestamp('2022-08-30 00:00:00', freq='C'), Timestamp('2022-08-31 00:00:00', freq='C'), Timestamp('2022-09-01 00:00:00', freq='C'), Timestamp('2022-09-02 00:00:00', freq='C'), Timestamp('2022-09-06 00:00:00', freq='C'), Timestamp('2022-09-07 00:00:00', freq='C'), Timestamp('2022-09-08 00:00:00', freq='C'), Timestamp('2022-09-09 00:00:00', freq='C'), Timestamp('2022-09-12 00:00:00', freq='C'), Timestamp('2022-09-13 00:00:00', freq='C'), Timestamp('2022-09-14 00:00:00', freq='C'), Timestamp('2022-09-15 00:00:00', freq='C'), Timestamp('2022-09-16 00:00:00', freq='C'), Timestamp('2022-09-19 00:00:00', freq='C'), Timestamp('2022-09-20 00:00:00', freq='C'), Timestamp('2022-09-21 00:00:00', freq='C'), Timestamp('2022-09-22 00:00:00', freq='C'), Timestamp('2022-09-23 00:00:00', freq='C'), Timestamp('2022-09-26 00:00:00', freq='C'), Timestamp('2022-09-27 00:00:00', freq='C'), Timestamp('2022-09-28 00:00:00', freq='C'), Timestamp('2022-09-29 00:00:00', freq='C'), Timestamp('2022-09-30 00:00:00', freq='C'), Timestamp('2022-10-03 00:00:00', freq='C'), Timestamp('2022-10-04 00:00:00', freq='C'), Timestamp('2022-10-05 00:00:00', freq='C'), Timestamp('2022-10-06 00:00:00', freq='C'), Timestamp('2022-10-07 00:00:00', freq='C'), Timestamp('2022-10-11 00:00:00', freq='C'), Timestamp('2022-10-12 00:00:00', freq='C'), Timestamp('2022-10-13 00:00:00', freq='C'), Timestamp('2022-10-14 00:00:00', freq='C'), Timestamp('2022-10-17 00:00:00', freq='C'), Timestamp('2022-10-18 00:00:00', freq='C'), Timestamp('2022-10-19 00:00:00', freq='C'), Timestamp('2022-10-20 00:00:00', freq='C'), Timestamp('2022-10-21 00:00:00', freq='C'), Timestamp('2022-10-24 00:00:00', freq='C'), Timestamp('2022-10-25 00:00:00', freq='C'), Timestamp('2022-10-26 00:00:00', freq='C'), Timestamp('2022-10-27 00:00:00', freq='C'), Timestamp('2022-10-28 00:00:00', freq='C'), Timestamp('2022-10-31 00:00:00', freq='C'), Timestamp('2022-11-01 00:00:00', freq='C'), Timestamp('2022-11-02 00:00:00', freq='C'), Timestamp('2022-11-03 00:00:00', freq='C'), Timestamp('2022-11-04 00:00:00', freq='C'), Timestamp('2022-11-07 00:00:00', freq='C'), Timestamp('2022-11-08 00:00:00', freq='C'), Timestamp('2022-11-09 00:00:00', freq='C'), Timestamp('2022-11-10 00:00:00', freq='C'), Timestamp('2022-11-14 00:00:00', freq='C'), Timestamp('2022-11-15 00:00:00', freq='C'), Timestamp('2022-11-16 00:00:00', freq='C'), Timestamp('2022-11-17 00:00:00', freq='C'), Timestamp('2022-11-18 00:00:00', freq='C'), Timestamp('2022-11-21 00:00:00', freq='C'), Timestamp('2022-11-22 00:00:00', freq='C'), Timestamp('2022-11-23 00:00:00', freq='C'), Timestamp('2022-11-25 00:00:00', freq='C'), Timestamp('2022-11-28 00:00:00', freq='C'), Timestamp('2022-11-29 00:00:00', freq='C'), Timestamp('2022-11-30 00:00:00', freq='C'), Timestamp('2022-12-01 00:00:00', freq='C')]\n"
          ]
        }
      ]
    },
    {
      "cell_type": "code",
      "source": [
        "prediction = model.predict(trainX[-days_of_pred:])\n",
        "\n",
        "prediction_copies = np.repeat(prediction, df_for_training.shape[1], axis=-1)\n",
        "y_pred_future = scaler.inverse_transform(prediction_copies)[:,0]"
      ],
      "metadata": {
        "colab": {
          "base_uri": "https://localhost:8080/"
        },
        "id": "1fqKtVhnia9L",
        "outputId": "c720be72-76c9-42f9-e8f9-4c40099b505d"
      },
      "execution_count": null,
      "outputs": [
        {
          "output_type": "stream",
          "name": "stderr",
          "text": [
            "WARNING:tensorflow:5 out of the last 16 calls to <function Model.make_predict_function.<locals>.predict_function at 0x7f816477f280> triggered tf.function retracing. Tracing is expensive and the excessive number of tracings could be due to (1) creating @tf.function repeatedly in a loop, (2) passing tensors with different shapes, (3) passing Python objects instead of tensors. For (1), please define your @tf.function outside of the loop. For (2), @tf.function has reduce_retracing=True option that can avoid unnecessary retracing. For (3), please refer to https://www.tensorflow.org/guide/function#controlling_retracing and https://www.tensorflow.org/api_docs/python/tf/function for  more details.\n"
          ]
        },
        {
          "output_type": "stream",
          "name": "stdout",
          "text": [
            "3/3 [==============================] - 0s 8ms/step\n"
          ]
        }
      ]
    },
    {
      "cell_type": "code",
      "source": [
        "print(y_pred_future)"
      ],
      "metadata": {
        "colab": {
          "base_uri": "https://localhost:8080/"
        },
        "id": "sE9AeogLiy7K",
        "outputId": "85ee01bd-1534-45da-de64-00d9c51a848a"
      },
      "execution_count": null,
      "outputs": [
        {
          "output_type": "stream",
          "name": "stdout",
          "text": [
            "[156.97646 156.34366 157.93666 159.03278 161.97765 162.94987 162.90884\n",
            " 165.09648 166.39998 166.53049 167.11949 166.94643 168.95691 169.83258\n",
            " 171.30215 172.51913 173.09793 174.16986 174.36798 173.59148 171.4883\n",
            " 170.62114 170.32178 171.27847 169.65352 166.70726 165.20369 163.76393\n",
            " 162.70464 162.10387 160.72946 160.37393 159.66652 160.33882 163.17006\n",
            " 160.96051 159.99698 158.60658 156.85638 157.35828 158.8426  158.89915\n",
            " 157.7523  156.3018  156.11346 156.41954 154.95462 151.93771 148.8694\n",
            " 148.22546 149.63213 150.2069  150.4783  148.41133 147.29878 146.31133\n",
            " 145.52524 145.95694 145.8535  146.38113 147.54922 147.78992 148.17377\n",
            " 149.37915 151.06195 153.08128 153.2948  151.82397 154.87906 155.68443\n",
            " 155.68123 153.51122 149.49785 147.55719 146.07883 146.00484 144.26482\n",
            " 147.17023 149.77737 151.11043 152.76677 152.62112 153.17043 154.22981\n",
            " 153.50842 153.65784 154.3433  153.48889 151.72113 149.84547]\n"
          ]
        }
      ]
    },
    {
      "cell_type": "code",
      "source": [
        "#Adding dates to forecast\n",
        "forecast_dates = []\n",
        "for time_i in predict_period_dates:\n",
        "    forecast_dates.append(time_i.date())"
      ],
      "metadata": {
        "id": "YB0RM4uCmzVM"
      },
      "execution_count": null,
      "outputs": []
    },
    {
      "cell_type": "code",
      "source": [
        "df_forecast = pd.DataFrame({'Date':np.array(forecast_dates), 'Open':y_pred_future})\n",
        "df_forecast['Date']=pd.to_datetime(df_forecast['Date'])\n"
      ],
      "metadata": {
        "id": "2SSXkbsDmzYA"
      },
      "execution_count": null,
      "outputs": []
    },
    {
      "cell_type": "code",
      "source": [
        "original = df[['Date', 'Open']]\n",
        "original['Date']=pd.to_datetime(original['Date'])\n",
        "original = original.loc[original['Date'] >= '2022-7-26']\n"
      ],
      "metadata": {
        "colab": {
          "base_uri": "https://localhost:8080/"
        },
        "id": "ZbJtvkcpmzaV",
        "outputId": "b0f81520-be02-4116-ae83-0f383b65e02d"
      },
      "execution_count": null,
      "outputs": [
        {
          "output_type": "stream",
          "name": "stderr",
          "text": [
            "<ipython-input-168-51fa3744d004>:2: SettingWithCopyWarning: \n",
            "A value is trying to be set on a copy of a slice from a DataFrame.\n",
            "Try using .loc[row_indexer,col_indexer] = value instead\n",
            "\n",
            "See the caveats in the documentation: https://pandas.pydata.org/pandas-docs/stable/user_guide/indexing.html#returning-a-view-versus-a-copy\n",
            "  original['Date']=pd.to_datetime(original['Date'])\n"
          ]
        }
      ]
    },
    {
      "cell_type": "code",
      "source": [
        "sns.lineplot(original['Date'], original['Open'])\n",
        "sns.lineplot(df_forecast['Date'], df_forecast['Open'])"
      ],
      "metadata": {
        "colab": {
          "base_uri": "https://localhost:8080/",
          "height": 386
        },
        "id": "PjTBAtKcmzch",
        "outputId": "5750f540-3b5d-4bae-c4cf-388dc5abd564"
      },
      "execution_count": null,
      "outputs": [
        {
          "output_type": "stream",
          "name": "stderr",
          "text": [
            "/usr/local/lib/python3.8/dist-packages/seaborn/_decorators.py:36: FutureWarning: Pass the following variables as keyword args: x, y. From version 0.12, the only valid positional argument will be `data`, and passing other arguments without an explicit keyword will result in an error or misinterpretation.\n",
            "  warnings.warn(\n",
            "/usr/local/lib/python3.8/dist-packages/seaborn/_decorators.py:36: FutureWarning: Pass the following variables as keyword args: x, y. From version 0.12, the only valid positional argument will be `data`, and passing other arguments without an explicit keyword will result in an error or misinterpretation.\n",
            "  warnings.warn(\n"
          ]
        },
        {
          "output_type": "execute_result",
          "data": {
            "text/plain": [
              "<matplotlib.axes._subplots.AxesSubplot at 0x7f8167f12bb0>"
            ]
          },
          "metadata": {},
          "execution_count": 169
        },
        {
          "output_type": "display_data",
          "data": {
            "text/plain": [
              "<Figure size 432x288 with 1 Axes>"
            ],
            "image/png": "[encoded data removed]"
          },
          "metadata": {
            "needs_background": "light"
          }
        }
      ]
    },
    {
      "cell_type": "code",
      "source": [
        "# from sklearn.metrics import accuracy_score\n",
        "# accuracy_score(open1, y_pred_future)"
      ],
      "metadata": {
        "id": "kYk_6YHmENFU"
      },
      "execution_count": null,
      "outputs": []
    }
  ]
}