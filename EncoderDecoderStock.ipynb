{
  "nbformat": 4,
  "nbformat_minor": 0,
  "metadata": {
    "colab": {
      "provenance": []
    },
    "kernelspec": {
      "name": "python3",
      "display_name": "Python 3"
    },
    "language_info": {
      "name": "python"
    }
  },
  "cells": [
    {
      "cell_type": "code",
      "source": [
        "pip install attention "
      ],
      "metadata": {
        "colab": {
          "base_uri": "https://localhost:8080/"
        },
        "id": "8Br0tR892ZUU",
        "outputId": "6609d0f0-f6d7-4283-8201-78392d33e165"
      },
      "execution_count": null,
      "outputs": [
        {
          "output_type": "stream",
          "name": "stdout",
          "text": [
            "Looking in indexes: https://pypi.org/simple, https://us-python.pkg.dev/colab-wheels/public/simple/\n",
            "Requirement already satisfied: attention in /usr/local/lib/python3.8/dist-packages (4.1)\n",
            "Requirement already satisfied: tensorflow>=2.1 in /usr/local/lib/python3.8/dist-packages (from attention) (2.9.2)\n",
            "Requirement already satisfied: numpy>=1.18.1 in /usr/local/lib/python3.8/dist-packages (from attention) (1.21.6)\n",
            "Requirement already satisfied: six>=1.12.0 in /usr/local/lib/python3.8/dist-packages (from tensorflow>=2.1->attention) (1.15.0)\n",
            "Requirement already satisfied: wrapt>=1.11.0 in /usr/local/lib/python3.8/dist-packages (from tensorflow>=2.1->attention) (1.14.1)\n",
            "Requirement already satisfied: keras<2.10.0,>=2.9.0rc0 in /usr/local/lib/python3.8/dist-packages (from tensorflow>=2.1->attention) (2.9.0)\n",
            "Requirement already satisfied: typing-extensions>=3.6.6 in /usr/local/lib/python3.8/dist-packages (from tensorflow>=2.1->attention) (4.1.1)\n",
            "Requirement already satisfied: google-pasta>=0.1.1 in /usr/local/lib/python3.8/dist-packages (from tensorflow>=2.1->attention) (0.2.0)\n",
            "Requirement already satisfied: packaging in /usr/local/lib/python3.8/dist-packages (from tensorflow>=2.1->attention) (21.3)\n",
            "Requirement already satisfied: opt-einsum>=2.3.2 in /usr/local/lib/python3.8/dist-packages (from tensorflow>=2.1->attention) (3.3.0)\n",
            "Requirement already satisfied: setuptools in /usr/local/lib/python3.8/dist-packages (from tensorflow>=2.1->attention) (57.4.0)\n",
            "Requirement already satisfied: astunparse>=1.6.0 in /usr/local/lib/python3.8/dist-packages (from tensorflow>=2.1->attention) (1.6.3)\n",
            "Requirement already satisfied: tensorflow-io-gcs-filesystem>=0.23.1 in /usr/local/lib/python3.8/dist-packages (from tensorflow>=2.1->attention) (0.28.0)\n",
            "Requirement already satisfied: libclang>=13.0.0 in /usr/local/lib/python3.8/dist-packages (from tensorflow>=2.1->attention) (14.0.6)\n",
            "Requirement already satisfied: gast<=0.4.0,>=0.2.1 in /usr/local/lib/python3.8/dist-packages (from tensorflow>=2.1->attention) (0.4.0)\n",
            "Requirement already satisfied: protobuf<3.20,>=3.9.2 in /usr/local/lib/python3.8/dist-packages (from tensorflow>=2.1->attention) (3.19.6)\n",
            "Requirement already satisfied: absl-py>=1.0.0 in /usr/local/lib/python3.8/dist-packages (from tensorflow>=2.1->attention) (1.3.0)\n",
            "Requirement already satisfied: h5py>=2.9.0 in /usr/local/lib/python3.8/dist-packages (from tensorflow>=2.1->attention) (3.1.0)\n",
            "Requirement already satisfied: tensorflow-estimator<2.10.0,>=2.9.0rc0 in /usr/local/lib/python3.8/dist-packages (from tensorflow>=2.1->attention) (2.9.0)\n",
            "Requirement already satisfied: termcolor>=1.1.0 in /usr/local/lib/python3.8/dist-packages (from tensorflow>=2.1->attention) (2.1.1)\n",
            "Requirement already satisfied: flatbuffers<2,>=1.12 in /usr/local/lib/python3.8/dist-packages (from tensorflow>=2.1->attention) (1.12)\n",
            "Requirement already satisfied: tensorboard<2.10,>=2.9 in /usr/local/lib/python3.8/dist-packages (from tensorflow>=2.1->attention) (2.9.1)\n",
            "Requirement already satisfied: keras-preprocessing>=1.1.1 in /usr/local/lib/python3.8/dist-packages (from tensorflow>=2.1->attention) (1.1.2)\n",
            "Requirement already satisfied: grpcio<2.0,>=1.24.3 in /usr/local/lib/python3.8/dist-packages (from tensorflow>=2.1->attention) (1.50.0)\n",
            "Requirement already satisfied: wheel<1.0,>=0.23.0 in /usr/local/lib/python3.8/dist-packages (from astunparse>=1.6.0->tensorflow>=2.1->attention) (0.38.4)\n",
            "Requirement already satisfied: google-auth-oauthlib<0.5,>=0.4.1 in /usr/local/lib/python3.8/dist-packages (from tensorboard<2.10,>=2.9->tensorflow>=2.1->attention) (0.4.6)\n",
            "Requirement already satisfied: werkzeug>=1.0.1 in /usr/local/lib/python3.8/dist-packages (from tensorboard<2.10,>=2.9->tensorflow>=2.1->attention) (1.0.1)\n",
            "Requirement already satisfied: tensorboard-plugin-wit>=1.6.0 in /usr/local/lib/python3.8/dist-packages (from tensorboard<2.10,>=2.9->tensorflow>=2.1->attention) (1.8.1)\n",
            "Requirement already satisfied: google-auth<3,>=1.6.3 in /usr/local/lib/python3.8/dist-packages (from tensorboard<2.10,>=2.9->tensorflow>=2.1->attention) (2.14.1)\n",
            "Requirement already satisfied: tensorboard-data-server<0.7.0,>=0.6.0 in /usr/local/lib/python3.8/dist-packages (from tensorboard<2.10,>=2.9->tensorflow>=2.1->attention) (0.6.1)\n",
            "Requirement already satisfied: requests<3,>=2.21.0 in /usr/local/lib/python3.8/dist-packages (from tensorboard<2.10,>=2.9->tensorflow>=2.1->attention) (2.23.0)\n",
            "Requirement already satisfied: markdown>=2.6.8 in /usr/local/lib/python3.8/dist-packages (from tensorboard<2.10,>=2.9->tensorflow>=2.1->attention) (3.4.1)\n",
            "Requirement already satisfied: rsa<5,>=3.1.4 in /usr/local/lib/python3.8/dist-packages (from google-auth<3,>=1.6.3->tensorboard<2.10,>=2.9->tensorflow>=2.1->attention) (4.9)\n",
            "Requirement already satisfied: pyasn1-modules>=0.2.1 in /usr/local/lib/python3.8/dist-packages (from google-auth<3,>=1.6.3->tensorboard<2.10,>=2.9->tensorflow>=2.1->attention) (0.2.8)\n",
            "Requirement already satisfied: cachetools<6.0,>=2.0.0 in /usr/local/lib/python3.8/dist-packages (from google-auth<3,>=1.6.3->tensorboard<2.10,>=2.9->tensorflow>=2.1->attention) (5.2.0)\n",
            "Requirement already satisfied: requests-oauthlib>=0.7.0 in /usr/local/lib/python3.8/dist-packages (from google-auth-oauthlib<0.5,>=0.4.1->tensorboard<2.10,>=2.9->tensorflow>=2.1->attention) (1.3.1)\n",
            "Requirement already satisfied: importlib-metadata>=4.4 in /usr/local/lib/python3.8/dist-packages (from markdown>=2.6.8->tensorboard<2.10,>=2.9->tensorflow>=2.1->attention) (4.13.0)\n",
            "Requirement already satisfied: zipp>=0.5 in /usr/local/lib/python3.8/dist-packages (from importlib-metadata>=4.4->markdown>=2.6.8->tensorboard<2.10,>=2.9->tensorflow>=2.1->attention) (3.10.0)\n",
            "Requirement already satisfied: pyasn1<0.5.0,>=0.4.6 in /usr/local/lib/python3.8/dist-packages (from pyasn1-modules>=0.2.1->google-auth<3,>=1.6.3->tensorboard<2.10,>=2.9->tensorflow>=2.1->attention) (0.4.8)\n",
            "Requirement already satisfied: idna<3,>=2.5 in /usr/local/lib/python3.8/dist-packages (from requests<3,>=2.21.0->tensorboard<2.10,>=2.9->tensorflow>=2.1->attention) (2.10)\n",
            "Requirement already satisfied: urllib3!=1.25.0,!=1.25.1,<1.26,>=1.21.1 in /usr/local/lib/python3.8/dist-packages (from requests<3,>=2.21.0->tensorboard<2.10,>=2.9->tensorflow>=2.1->attention) (1.24.3)\n",
            "Requirement already satisfied: chardet<4,>=3.0.2 in /usr/local/lib/python3.8/dist-packages (from requests<3,>=2.21.0->tensorboard<2.10,>=2.9->tensorflow>=2.1->attention) (3.0.4)\n",
            "Requirement already satisfied: certifi>=2017.4.17 in /usr/local/lib/python3.8/dist-packages (from requests<3,>=2.21.0->tensorboard<2.10,>=2.9->tensorflow>=2.1->attention) (2022.9.24)\n",
            "Requirement already satisfied: oauthlib>=3.0.0 in /usr/local/lib/python3.8/dist-packages (from requests-oauthlib>=0.7.0->google-auth-oauthlib<0.5,>=0.4.1->tensorboard<2.10,>=2.9->tensorflow>=2.1->attention) (3.2.2)\n",
            "Requirement already satisfied: pyparsing!=3.0.5,>=2.0.2 in /usr/local/lib/python3.8/dist-packages (from packaging->tensorflow>=2.1->attention) (3.0.9)\n"
          ]
        }
      ]
    },
    {
      "cell_type": "code",
      "execution_count": null,
      "metadata": {
        "id": "pQ60xcy8wh2G"
      },
      "outputs": [],
      "source": [
        "import numpy as np\n",
        "from keras.models import Sequential\n",
        "from keras.layers import LSTM\n",
        "from keras.layers import Dense, Dropout\n",
        "import tensorflow as tf\n",
        "import pandas as pd\n",
        "from matplotlib import pyplot as plt\n",
        "from sklearn.preprocessing import StandardScaler\n",
        "import seaborn as sns\n",
        "#from datetime import datetime"
      ]
    },
    {
      "cell_type": "code",
      "source": [
        "df = pd.read_csv('/content/drive/MyDrive/AAPL.csv')\n",
        "print(df.tail())"
      ],
      "metadata": {
        "colab": {
          "base_uri": "https://localhost:8080/"
        },
        "id": "eovUAQDZzjNc",
        "outputId": "eecf245b-4fc7-431d-de0b-38e3808a7a1d"
      },
      "execution_count": null,
      "outputs": [
        {
          "output_type": "stream",
          "name": "stdout",
          "text": [
            "            Date        Open        High         Low       Close   Adj Close  \\\n",
            "5529  2022-11-23  149.449997  151.830002  149.339996  151.070007  151.070007   \n",
            "5530  2022-11-25  148.309998  148.880005  147.119995  148.110001  148.110001   \n",
            "5531  2022-11-28  145.139999  146.639999  143.380005  144.220001  144.220001   \n",
            "5532  2022-11-29  144.289993  144.809998  140.350006  141.169998  141.169998   \n",
            "5533  2022-11-30  141.399994  148.720001  140.550003  148.029999  148.029999   \n",
            "\n",
            "         Volume  \n",
            "5529   58301400  \n",
            "5530   35195900  \n",
            "5531   69246000  \n",
            "5532   83763800  \n",
            "5533  111224400  \n"
          ]
        }
      ]
    },
    {
      "cell_type": "code",
      "source": [
        "train_dates = pd.to_datetime(df['Date'])\n",
        "print(train_dates.tail(15))"
      ],
      "metadata": {
        "colab": {
          "base_uri": "https://localhost:8080/"
        },
        "id": "ICmX-DyozjQi",
        "outputId": "d6b02d1f-ffe3-441b-8e79-eb6f3db7a2ab"
      },
      "execution_count": null,
      "outputs": [
        {
          "output_type": "stream",
          "name": "stdout",
          "text": [
            "5519   2022-11-09\n",
            "5520   2022-11-10\n",
            "5521   2022-11-11\n",
            "5522   2022-11-14\n",
            "5523   2022-11-15\n",
            "5524   2022-11-16\n",
            "5525   2022-11-17\n",
            "5526   2022-11-18\n",
            "5527   2022-11-21\n",
            "5528   2022-11-22\n",
            "5529   2022-11-23\n",
            "5530   2022-11-25\n",
            "5531   2022-11-28\n",
            "5532   2022-11-29\n",
            "5533   2022-11-30\n",
            "Name: Date, dtype: datetime64[ns]\n"
          ]
        }
      ]
    },
    {
      "cell_type": "code",
      "source": [
        "#Variables for training\n",
        "cols = list(df)[1:6]\n",
        "#Date and volume columns are not used in training. \n",
        "print(cols) #['Open', 'High', 'Low', 'Close', 'Adj Close']"
      ],
      "metadata": {
        "colab": {
          "base_uri": "https://localhost:8080/"
        },
        "id": "xEOO7XmlzjSj",
        "outputId": "f69ef1fe-eb6d-4d36-db7c-a3be29ed4d18"
      },
      "execution_count": null,
      "outputs": [
        {
          "output_type": "stream",
          "name": "stdout",
          "text": [
            "['Open', 'High', 'Low', 'Close', 'Adj Close']\n"
          ]
        }
      ]
    },
    {
      "cell_type": "code",
      "source": [
        "df_for_training = df[cols].astype(float)"
      ],
      "metadata": {
        "id": "FRFPiqhhzjUs"
      },
      "execution_count": null,
      "outputs": []
    },
    {
      "cell_type": "code",
      "source": [
        "#LSTM uses sigmoid and tanh that are sensitive to magnitude so values need to be normalized\n",
        "# normalize the dataset\n",
        "scaler = StandardScaler()\n",
        "scaler = scaler.fit(df_for_training)\n",
        "df_for_training_scaled = scaler.transform(df_for_training)\n"
      ],
      "metadata": {
        "id": "5frC9sFkzjXN"
      },
      "execution_count": null,
      "outputs": []
    },
    {
      "cell_type": "code",
      "source": [
        "trainX = []\n",
        "trainY = []\n",
        "\n",
        "n_future = 1   # Number of days we want to look into the future based on the past days.\n",
        "n_past = 14  # Number of past days we want to use to predict the future.\n",
        "\n",
        "#Reformat input data into a shape: (n_samples x timesteps x n_features)\n",
        "#In my example, my df_for_training_scaled has a shape (12823, 5)\n",
        "#12823 refers to the number of data points and 5 refers to the columns (multi-variables).\n",
        "for i in range(n_past, len(df_for_training_scaled) - n_future +1):\n",
        "    trainX.append(df_for_training_scaled[i - n_past:i, 0:df_for_training.shape[1]])\n",
        "    trainY.append(df_for_training_scaled[i + n_future - 1:i + n_future, 0])"
      ],
      "metadata": {
        "id": "nl2GkfeYzjY-"
      },
      "execution_count": null,
      "outputs": []
    },
    {
      "cell_type": "code",
      "source": [
        "trainX, trainY = np.array(trainX), np.array(trainY)\n",
        "\n",
        "print('trainX shape == {}.'.format(trainX.shape))\n",
        "print('trainY shape == {}.'.format(trainY.shape))\n"
      ],
      "metadata": {
        "colab": {
          "base_uri": "https://localhost:8080/"
        },
        "id": "CmZ8Pjz5zjdO",
        "outputId": "d4d174d5-ea4a-4a98-db4b-029a0b642a1c"
      },
      "execution_count": null,
      "outputs": [
        {
          "output_type": "stream",
          "name": "stdout",
          "text": [
            "trainX shape == (5520, 14, 5).\n",
            "trainY shape == (5520, 1).\n"
          ]
        }
      ]
    },
    {
      "cell_type": "code",
      "source": [
        "from keras.models import Sequential\n",
        "from keras import layers\n",
        "from keras.layers import LSTM,Dropout\n",
        "from keras.layers import Dense\n",
        "from attention import Attention\n",
        "\n",
        "\n",
        "model = Sequential()\n",
        "model.add(LSTM(100, activation='relu', input_shape=(trainX.shape[1], trainX.shape[2]), return_sequences=True))\n",
        "model.add(Dropout(0.2))\n",
        "model.add(LSTM(units=100,return_sequences=True))\n",
        "model.add(LSTM(units=50,return_sequences=True))\n",
        "model.add(Dropout(0.2))\n",
        "model.add(Attention(128))\n",
        "model.add(Dense(trainY.shape[1]))\n",
        "\n",
        "model.compile(optimizer='adam', loss='mse')\n",
        "model.summary()\n"
      ],
      "metadata": {
        "colab": {
          "base_uri": "https://localhost:8080/"
        },
        "id": "7JmhSVwYzjfn",
        "outputId": "700ad350-53b3-411c-dff6-044ff27c35a4"
      },
      "execution_count": null,
      "outputs": [
        {
          "output_type": "stream",
          "name": "stdout",
          "text": [
            "Model: \"sequential_7\"\n",
            "_________________________________________________________________\n",
            " Layer (type)                Output Shape              Param #   \n",
            "=================================================================\n",
            " lstm_33 (LSTM)              (None, 14, 100)           42400     \n",
            "                                                                 \n",
            " dropout_14 (Dropout)        (None, 14, 100)           0         \n",
            "                                                                 \n",
            " lstm_34 (LSTM)              (None, 14, 100)           80400     \n",
            "                                                                 \n",
            " lstm_35 (LSTM)              (None, 14, 50)            30200     \n",
            "                                                                 \n",
            " dropout_15 (Dropout)        (None, 14, 50)            0         \n",
            "                                                                 \n",
            " attention_7 (Attention)     (None, 128)               15300     \n",
            "                                                                 \n",
            " dense_9 (Dense)             (None, 1)                 129       \n",
            "                                                                 \n",
            "=================================================================\n",
            "Total params: 168,429\n",
            "Trainable params: 168,429\n",
            "Non-trainable params: 0\n",
            "_________________________________________________________________\n"
          ]
        }
      ]
    },
    {
      "cell_type": "code",
      "source": [
        "history = model.fit(trainX, trainY, epochs=13, batch_size=16, validation_split=0.1, verbose=1)"
      ],
      "metadata": {
        "colab": {
          "base_uri": "https://localhost:8080/"
        },
        "id": "4czEOO7czjjA",
        "outputId": "81e2b343-153c-4983-e2ff-2978136a7cf7"
      },
      "execution_count": null,
      "outputs": [
        {
          "output_type": "stream",
          "name": "stdout",
          "text": [
            "Epoch 1/13\n",
            "311/311 [==============================] - 30s 76ms/step - loss: 0.0086 - val_loss: 0.0659\n",
            "Epoch 2/13\n",
            "311/311 [==============================] - 12s 39ms/step - loss: 0.0035 - val_loss: 0.2444\n",
            "Epoch 3/13\n",
            "311/311 [==============================] - 11s 34ms/step - loss: 0.0026 - val_loss: 0.1997\n",
            "Epoch 4/13\n",
            "311/311 [==============================] - 11s 35ms/step - loss: 0.0024 - val_loss: 0.2096\n",
            "Epoch 5/13\n",
            "311/311 [==============================] - 11s 35ms/step - loss: 0.0026 - val_loss: 0.2142\n",
            "Epoch 6/13\n",
            "311/311 [==============================] - 11s 34ms/step - loss: 0.0018 - val_loss: 0.1108\n",
            "Epoch 7/13\n",
            "311/311 [==============================] - 11s 34ms/step - loss: 0.0020 - val_loss: 0.0396\n",
            "Epoch 8/13\n",
            "311/311 [==============================] - 11s 34ms/step - loss: 0.0021 - val_loss: 0.0901\n",
            "Epoch 9/13\n",
            "311/311 [==============================] - 11s 34ms/step - loss: 0.0019 - val_loss: 0.0306\n",
            "Epoch 10/13\n",
            "311/311 [==============================] - 11s 34ms/step - loss: 0.0019 - val_loss: 0.0499\n",
            "Epoch 11/13\n",
            "311/311 [==============================] - 14s 45ms/step - loss: 0.0016 - val_loss: 0.0798\n",
            "Epoch 12/13\n",
            "311/311 [==============================] - 12s 40ms/step - loss: 0.0017 - val_loss: 0.0409\n",
            "Epoch 13/13\n",
            "311/311 [==============================] - 11s 34ms/step - loss: 0.0017 - val_loss: 0.0171\n"
          ]
        }
      ]
    },
    {
      "cell_type": "code",
      "source": [
        "from pandas.tseries.holiday import USFederalHolidayCalendar\n",
        "from pandas.tseries.offsets import CustomBusinessDay\n",
        "us_bd = CustomBusinessDay(calendar=USFederalHolidayCalendar())"
      ],
      "metadata": {
        "id": "UqA6PVSC0M21"
      },
      "execution_count": null,
      "outputs": []
    },
    {
      "cell_type": "code",
      "source": [
        "past = 91\n",
        "days_of_pred = 90"
      ],
      "metadata": {
        "id": "kOIVG91s0M4n"
      },
      "execution_count": null,
      "outputs": []
    },
    {
      "cell_type": "code",
      "source": [
        "predict_period_dates = pd.date_range(list(train_dates)[-past], periods=days_of_pred, freq = us_bd).tolist()\n",
        "print(predict_period_dates)"
      ],
      "metadata": {
        "colab": {
          "base_uri": "https://localhost:8080/"
        },
        "id": "1NdMiLCm0M69",
        "outputId": "d8b921c6-6079-441d-a07c-bc7f5364badb"
      },
      "execution_count": null,
      "outputs": [
        {
          "output_type": "stream",
          "name": "stdout",
          "text": [
            "[Timestamp('2022-07-25 00:00:00', freq='C'), Timestamp('2022-07-26 00:00:00', freq='C'), Timestamp('2022-07-27 00:00:00', freq='C'), Timestamp('2022-07-28 00:00:00', freq='C'), Timestamp('2022-07-29 00:00:00', freq='C'), Timestamp('2022-08-01 00:00:00', freq='C'), Timestamp('2022-08-02 00:00:00', freq='C'), Timestamp('2022-08-03 00:00:00', freq='C'), Timestamp('2022-08-04 00:00:00', freq='C'), Timestamp('2022-08-05 00:00:00', freq='C'), Timestamp('2022-08-08 00:00:00', freq='C'), Timestamp('2022-08-09 00:00:00', freq='C'), Timestamp('2022-08-10 00:00:00', freq='C'), Timestamp('2022-08-11 00:00:00', freq='C'), Timestamp('2022-08-12 00:00:00', freq='C'), Timestamp('2022-08-15 00:00:00', freq='C'), Timestamp('2022-08-16 00:00:00', freq='C'), Timestamp('2022-08-17 00:00:00', freq='C'), Timestamp('2022-08-18 00:00:00', freq='C'), Timestamp('2022-08-19 00:00:00', freq='C'), Timestamp('2022-08-22 00:00:00', freq='C'), Timestamp('2022-08-23 00:00:00', freq='C'), Timestamp('2022-08-24 00:00:00', freq='C'), Timestamp('2022-08-25 00:00:00', freq='C'), Timestamp('2022-08-26 00:00:00', freq='C'), Timestamp('2022-08-29 00:00:00', freq='C'), Timestamp('2022-08-30 00:00:00', freq='C'), Timestamp('2022-08-31 00:00:00', freq='C'), Timestamp('2022-09-01 00:00:00', freq='C'), Timestamp('2022-09-02 00:00:00', freq='C'), Timestamp('2022-09-06 00:00:00', freq='C'), Timestamp('2022-09-07 00:00:00', freq='C'), Timestamp('2022-09-08 00:00:00', freq='C'), Timestamp('2022-09-09 00:00:00', freq='C'), Timestamp('2022-09-12 00:00:00', freq='C'), Timestamp('2022-09-13 00:00:00', freq='C'), Timestamp('2022-09-14 00:00:00', freq='C'), Timestamp('2022-09-15 00:00:00', freq='C'), Timestamp('2022-09-16 00:00:00', freq='C'), Timestamp('2022-09-19 00:00:00', freq='C'), Timestamp('2022-09-20 00:00:00', freq='C'), Timestamp('2022-09-21 00:00:00', freq='C'), Timestamp('2022-09-22 00:00:00', freq='C'), Timestamp('2022-09-23 00:00:00', freq='C'), Timestamp('2022-09-26 00:00:00', freq='C'), Timestamp('2022-09-27 00:00:00', freq='C'), Timestamp('2022-09-28 00:00:00', freq='C'), Timestamp('2022-09-29 00:00:00', freq='C'), Timestamp('2022-09-30 00:00:00', freq='C'), Timestamp('2022-10-03 00:00:00', freq='C'), Timestamp('2022-10-04 00:00:00', freq='C'), Timestamp('2022-10-05 00:00:00', freq='C'), Timestamp('2022-10-06 00:00:00', freq='C'), Timestamp('2022-10-07 00:00:00', freq='C'), Timestamp('2022-10-11 00:00:00', freq='C'), Timestamp('2022-10-12 00:00:00', freq='C'), Timestamp('2022-10-13 00:00:00', freq='C'), Timestamp('2022-10-14 00:00:00', freq='C'), Timestamp('2022-10-17 00:00:00', freq='C'), Timestamp('2022-10-18 00:00:00', freq='C'), Timestamp('2022-10-19 00:00:00', freq='C'), Timestamp('2022-10-20 00:00:00', freq='C'), Timestamp('2022-10-21 00:00:00', freq='C'), Timestamp('2022-10-24 00:00:00', freq='C'), Timestamp('2022-10-25 00:00:00', freq='C'), Timestamp('2022-10-26 00:00:00', freq='C'), Timestamp('2022-10-27 00:00:00', freq='C'), Timestamp('2022-10-28 00:00:00', freq='C'), Timestamp('2022-10-31 00:00:00', freq='C'), Timestamp('2022-11-01 00:00:00', freq='C'), Timestamp('2022-11-02 00:00:00', freq='C'), Timestamp('2022-11-03 00:00:00', freq='C'), Timestamp('2022-11-04 00:00:00', freq='C'), Timestamp('2022-11-07 00:00:00', freq='C'), Timestamp('2022-11-08 00:00:00', freq='C'), Timestamp('2022-11-09 00:00:00', freq='C'), Timestamp('2022-11-10 00:00:00', freq='C'), Timestamp('2022-11-14 00:00:00', freq='C'), Timestamp('2022-11-15 00:00:00', freq='C'), Timestamp('2022-11-16 00:00:00', freq='C'), Timestamp('2022-11-17 00:00:00', freq='C'), Timestamp('2022-11-18 00:00:00', freq='C'), Timestamp('2022-11-21 00:00:00', freq='C'), Timestamp('2022-11-22 00:00:00', freq='C'), Timestamp('2022-11-23 00:00:00', freq='C'), Timestamp('2022-11-25 00:00:00', freq='C'), Timestamp('2022-11-28 00:00:00', freq='C'), Timestamp('2022-11-29 00:00:00', freq='C'), Timestamp('2022-11-30 00:00:00', freq='C'), Timestamp('2022-12-01 00:00:00', freq='C')]\n"
          ]
        }
      ]
    },
    {
      "cell_type": "code",
      "source": [
        "prediction = model.predict(trainX[-days_of_pred:])"
      ],
      "metadata": {
        "colab": {
          "base_uri": "https://localhost:8080/"
        },
        "id": "N4eYfEiv0M-O",
        "outputId": "5201dc78-7c4e-412d-c7c1-b4a1be82ea3b"
      },
      "execution_count": null,
      "outputs": [
        {
          "output_type": "stream",
          "name": "stderr",
          "text": [
            "WARNING:tensorflow:5 out of the last 13 calls to <function Model.make_predict_function.<locals>.predict_function at 0x7f6a824a7550> triggered tf.function retracing. Tracing is expensive and the excessive number of tracings could be due to (1) creating @tf.function repeatedly in a loop, (2) passing tensors with different shapes, (3) passing Python objects instead of tensors. For (1), please define your @tf.function outside of the loop. For (2), @tf.function has reduce_retracing=True option that can avoid unnecessary retracing. For (3), please refer to https://www.tensorflow.org/guide/function#controlling_retracing and https://www.tensorflow.org/api_docs/python/tf/function for  more details.\n"
          ]
        },
        {
          "output_type": "stream",
          "name": "stdout",
          "text": [
            "3/3 [==============================] - 2s 14ms/step\n"
          ]
        }
      ]
    },
    {
      "cell_type": "code",
      "source": [
        "prediction_copies = np.repeat(prediction, df_for_training.shape[1], axis=-1)\n",
        "y_pred_future = scaler.inverse_transform(prediction_copies)[:,0]\n",
        "print(y_pred_future)"
      ],
      "metadata": {
        "colab": {
          "base_uri": "https://localhost:8080/"
        },
        "id": "Dkc4yClW0NAb",
        "outputId": "1c6eade8-2e1a-4554-e48b-7f5773d195e0"
      },
      "execution_count": null,
      "outputs": [
        {
          "output_type": "stream",
          "name": "stdout",
          "text": [
            "[152.40935 152.86983 153.27151 153.59584 154.84499 155.4515  156.37256\n",
            " 157.54803 158.03687 158.82324 159.93127 160.56369 160.91974 161.0104\n",
            " 161.22008 162.5472  163.52109 165.1057  165.30234 165.12134 165.51582\n",
            " 165.17555 164.2366  164.22977 163.74075 163.50366 162.46147 161.64716\n",
            " 160.9066  160.37592 159.87115 159.2446  158.4267  157.90776 158.85446\n",
            " 159.32008 159.36726 158.13556 156.26611 155.47711 155.4705  155.59583\n",
            " 155.37871 154.32324 153.7958  153.74696 153.88309 153.3006  150.4027\n",
            " 148.42795 147.77135 147.78503 148.60245 148.6376  147.75919 146.65863\n",
            " 145.95866 145.91866 146.10307 145.6418  145.35048 145.2454  145.97327\n",
            " 147.3784  148.4195  149.68437 149.58405 149.2137  149.48256 150.14587\n",
            " 150.77396 150.62273 149.06248 147.23006 145.192   144.31895 143.71255\n",
            " 144.52153 146.18053 147.3723  148.50099 150.50272 151.28981 151.90483\n",
            " 151.19023 149.85768 149.69847 149.26279 148.71013 147.29797]\n"
          ]
        }
      ]
    },
    {
      "cell_type": "code",
      "source": [
        "forecast_dates = []\n",
        "for time_i in predict_period_dates:\n",
        "    forecast_dates.append(time_i.date())"
      ],
      "metadata": {
        "id": "mf3zf7uS0NEM"
      },
      "execution_count": null,
      "outputs": []
    },
    {
      "cell_type": "code",
      "source": [
        "df_forecast = pd.DataFrame({'Date':np.array(forecast_dates), 'Open':y_pred_future})\n",
        "df_forecast['Date']=pd.to_datetime(df_forecast['Date'])\n"
      ],
      "metadata": {
        "id": "klqHNX410NF7"
      },
      "execution_count": null,
      "outputs": []
    },
    {
      "cell_type": "code",
      "source": [
        "original = df[['Date', 'Open']]\n",
        "original['Date']=pd.to_datetime(original['Date'])\n",
        "original = original.loc[original['Date'] >= '2022-7-26']"
      ],
      "metadata": {
        "colab": {
          "base_uri": "https://localhost:8080/"
        },
        "id": "ZW88h6JE0NIH",
        "outputId": "4a338087-a4f3-4452-f370-b767b0277d49"
      },
      "execution_count": null,
      "outputs": [
        {
          "output_type": "stream",
          "name": "stderr",
          "text": [
            "<ipython-input-100-51fa3744d004>:2: SettingWithCopyWarning: \n",
            "A value is trying to be set on a copy of a slice from a DataFrame.\n",
            "Try using .loc[row_indexer,col_indexer] = value instead\n",
            "\n",
            "See the caveats in the documentation: https://pandas.pydata.org/pandas-docs/stable/user_guide/indexing.html#returning-a-view-versus-a-copy\n",
            "  original['Date']=pd.to_datetime(original['Date'])\n"
          ]
        }
      ]
    },
    {
      "cell_type": "code",
      "source": [
        "sns.lineplot(original['Date'], original['Open'])\n",
        "sns.lineplot(df_forecast['Date'], df_forecast['Open'])\n",
        "plt.show()"
      ],
      "metadata": {
        "colab": {
          "base_uri": "https://localhost:8080/",
          "height": 369
        },
        "id": "09m-QHAp0NKR",
        "outputId": "e89fee4a-4594-48f8-eb68-3334c08ea429"
      },
      "execution_count": null,
      "outputs": [
        {
          "output_type": "stream",
          "name": "stderr",
          "text": [
            "/usr/local/lib/python3.8/dist-packages/seaborn/_decorators.py:36: FutureWarning: Pass the following variables as keyword args: x, y. From version 0.12, the only valid positional argument will be `data`, and passing other arguments without an explicit keyword will result in an error or misinterpretation.\n",
            "  warnings.warn(\n",
            "/usr/local/lib/python3.8/dist-packages/seaborn/_decorators.py:36: FutureWarning: Pass the following variables as keyword args: x, y. From version 0.12, the only valid positional argument will be `data`, and passing other arguments without an explicit keyword will result in an error or misinterpretation.\n",
            "  warnings.warn(\n"
          ]
        },
        {
          "output_type": "display_data",
          "data": {
            "text/plain": [
              "<Figure size 432x288 with 1 Axes>"
            ],
            "image/png": "[encoded data removed]"
          },
          "metadata": {
            "needs_background": "light"
          }
        }
      ]
    }
  ]
}